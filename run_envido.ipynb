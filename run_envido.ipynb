{
  "cells": [
    {
      "cell_type": "markdown",
      "metadata": {
        "id": "SUKX__a1UgGt"
      },
      "source": [
        "# Ejemplo de Inferencia"
      ]
    },
    {
      "cell_type": "code",
      "source": [
        "from google.colab import drive\n",
        "drive.mount('/content/drive')"
      ],
      "metadata": {
        "id": "tyNm0cFM-IOt"
      },
      "execution_count": null,
      "outputs": []
    },
    {
      "cell_type": "code",
      "source": [
        "! pip install ultralytics"
      ],
      "metadata": {
        "collapsed": true,
        "id": "uilXHQVW-RTg"
      },
      "execution_count": null,
      "outputs": []
    },
    {
      "cell_type": "code",
      "execution_count": null,
      "metadata": {
        "id": "ZxlBx8OXUgGu"
      },
      "outputs": [],
      "source": [
        "import os\n",
        "import shutil\n",
        "import json\n",
        "from ultralytics import YOLO"
      ]
    },
    {
      "cell_type": "markdown",
      "metadata": {
        "id": "Kzf_37QPUgGu"
      },
      "source": [
        "## Ajustes Iniciales"
      ]
    },
    {
      "cell_type": "code",
      "execution_count": null,
      "metadata": {
        "id": "LrsYEZXHUgGv"
      },
      "outputs": [],
      "source": [
        "# Nombre del alumno\n",
        "student_name = \"lucas_bruge\"\n",
        "\n",
        "# Ruta al archivo de pesos\n",
        "model_path = \"/content/drive/MyDrive/TUIA/CV/2024-01_practico/model/weights/best.pt\"\n",
        "\n",
        "# Ruta al directorio que contiene las imagenes\n",
        "imgs_dir = \"/content/drive/MyDrive/TUIA/CV/2024-01_practico/data/eval/images/val\"\n",
        "\n",
        "# Ruta al directorio de destino de las detecciones\n",
        "base_dir = \"/content/drive/MyDrive/TUIA/CV/2024-01_practico/data/out\"\n",
        "dets_dir = os.path.join(base_dir, student_name)"
      ]
    },
    {
      "cell_type": "code",
      "execution_count": null,
      "metadata": {
        "id": "XPb1-p0LUgGv"
      },
      "outputs": [],
      "source": [
        "# Reestablecimiento del directorio de destino (eliminacion)\n",
        "if os.path.exists(dets_dir):\n",
        "    shutil.rmtree(dets_dir)\n",
        "\n",
        "os.makedirs(dets_dir)"
      ]
    },
    {
      "cell_type": "markdown",
      "metadata": {
        "id": "KlWUupvnUgGv"
      },
      "source": [
        "## Inferencia\n",
        "\n",
        "### Formato YOLOv5 para las salidas de las inferencias\n",
        "\n",
        "Estas son las celdas para que el estudiante complete con su código de inferencia.\n",
        "\n",
        "Debe generar un archivo con las detecciones en formato YOLOv5, donde cada línea contiene:\n",
        " cls, xc, yx, w, h, c\n",
        "\n",
        "* **cls**: número de índice de la clase\n",
        "\n",
        "* **xc**: coordenada x al centro de la caja delimitadora (bbox)\n",
        "\n",
        "* **yx**: coordenada y al centro de la caja delimitadora (bbox)\n",
        "\n",
        "* **w**: ancho de la caja delimitadora\n",
        "\n",
        "* **h**: alto de la caja delimitadora\n",
        "\n",
        "* **c**: certeza del modelo sobre la clasificacíon (confidence)\n",
        "\n",
        "\n",
        " Todas las coordenadas deben ser relativas: [0 ... 1]\n",
        "\n",
        "NOTA: Si utiliza un modelo YoloV8 de ultralytics, pueder llamar al método result.save_txt(file_name, save_conf=True)\n",
        "\n",
        "### Formato para los archivos de envido.json\n",
        "\n",
        "Además de las detecciones anteriores, debe existir un archivo llamado envido.json con la siguiente estructura:\n",
        "\n",
        "```json\n",
        "{\n",
        "    \"IMG_20240630_174514649_HDR.jpg\": {\n",
        "        \"total_cards\": 3,\n",
        "        \"cards\": {\n",
        "            \"E\": [],\n",
        "            \"C\": [\n",
        "                12\n",
        "            ],\n",
        "            \"B\": [\n",
        "                11\n",
        "            ],\n",
        "            \"O\": [\n",
        "                10\n",
        "            ]\n",
        "        },\n",
        "        \"points\": 0,\n",
        "        \"figure\": \"N/A\"\n",
        "    },\n",
        "    \"IMG_20240630_173918579.jpg\": {\n",
        "        \"total_cards\": 2,\n",
        "        \"cards\": {\n",
        "            \"E\": [],\n",
        "            \"C\": [],\n",
        "            \"B\": [],\n",
        "            \"O\": [\n",
        "                9,\n",
        "                8\n",
        "            ]\n",
        "        },\n",
        "        \"points\": 0,\n",
        "        \"figure\": \"N/A\"\n",
        "    },\n",
        "  ...\n",
        "}\n",
        "```\n",
        "\n",
        "Esto indica que hay un total de tres cartas, que son el 5 y el 1 de Copas, y el 2 de Basto, que dan 26 puntos de envido de Copa.\n",
        "\n",
        "Este archivo debe contener una clave con el nombre de archivo, donde cada elemento es a su vez un objeto cons las claves detalladas.\n",
        "\n",
        "Revise el archivo gt_envido.json para analizar todas las posibilidades."
      ]
    },
    {
      "cell_type": "markdown",
      "metadata": {
        "id": "MEvz0ZGdUgGw"
      },
      "source": [
        "### DEMO: cálculo del envido\n",
        "\n",
        "A continuación hay una implementación del cálculo de los puntos a modo de ejemplo, que sirve de referencia para evaluar el algoritmo de evaluación.\n",
        "\n",
        "**ESTA ES LA SECCIÓN QUE CADA ALUMNO REEMPLAZARIA CON SU CODIGO**"
      ]
    },
    {
      "cell_type": "code",
      "execution_count": null,
      "metadata": {
        "id": "prcIq_tjUgGw"
      },
      "outputs": [],
      "source": []
    },
    {
      "cell_type": "markdown",
      "metadata": {
        "id": "w3K0mr20UgGx"
      },
      "source": [
        "## Escritura del archivo envido.json"
      ]
    },
    {
      "cell_type": "code",
      "execution_count": null,
      "metadata": {
        "id": "Y-98aHWTUgGx"
      },
      "outputs": [],
      "source": [
        "with open(os.path.join(dets_dir, \"envido.json\"), \"w\") as jf:\n",
        "    json.dump(card_ds_file, jf, indent=4)"
      ]
    },
    {
      "cell_type": "code",
      "execution_count": null,
      "metadata": {
        "id": "yTm8Kfh0UgGx"
      },
      "outputs": [],
      "source": []
    }
  ],
  "metadata": {
    "kernelspec": {
      "display_name": "base",
      "language": "python",
      "name": "python3"
    },
    "language_info": {
      "codemirror_mode": {
        "name": "ipython",
        "version": 3
      },
      "file_extension": ".py",
      "mimetype": "text/x-python",
      "name": "python",
      "nbconvert_exporter": "python",
      "pygments_lexer": "ipython3",
      "version": "3.10.14"
    },
    "colab": {
      "provenance": []
    }
  },
  "nbformat": 4,
  "nbformat_minor": 0
}