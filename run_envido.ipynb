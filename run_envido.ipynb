{
  "cells": [
    {
      "cell_type": "markdown",
      "metadata": {
        "id": "SUKX__a1UgGt"
      },
      "source": [
        "# Ejemplo de Inferencia"
      ]
    },
    {
      "cell_type": "code",
      "execution_count": 7,
      "metadata": {},
      "outputs": [
        {
          "name": "stdout",
          "output_type": "stream",
          "text": [
            "Collecting google\n",
            "  Using cached google-3.0.0-py2.py3-none-any.whl (45 kB)\n",
            "Requirement already satisfied: beautifulsoup4 in /home/earevalo/augmentation/computer-vision/tp-final/.env/lib/python3.11/site-packages (from google) (4.12.3)\n",
            "Requirement already satisfied: soupsieve>1.2 in /home/earevalo/augmentation/computer-vision/tp-final/.env/lib/python3.11/site-packages (from beautifulsoup4->google) (2.5)\n",
            "Installing collected packages: google\n",
            "Successfully installed google-3.0.0\n"
          ]
        }
      ],
      "source": [
        "!pip install google\n"
      ]
    },
    {
      "cell_type": "code",
      "execution_count": 8,
      "metadata": {
        "id": "tyNm0cFM-IOt"
      },
      "outputs": [
        {
          "ename": "ModuleNotFoundError",
          "evalue": "No module named 'google'",
          "output_type": "error",
          "traceback": [
            "\u001b[0;31m---------------------------------------------------------------------------\u001b[0m",
            "\u001b[0;31mModuleNotFoundError\u001b[0m                       Traceback (most recent call last)",
            "Cell \u001b[0;32mIn[8], line 1\u001b[0m\n\u001b[0;32m----> 1\u001b[0m \u001b[38;5;28;01mfrom\u001b[39;00m \u001b[38;5;21;01mgoogle\u001b[39;00m\u001b[38;5;21;01m.\u001b[39;00m\u001b[38;5;21;01mcolab\u001b[39;00m \u001b[38;5;28;01mimport\u001b[39;00m drive\n\u001b[1;32m      2\u001b[0m drive\u001b[38;5;241m.\u001b[39mmount(\u001b[38;5;124m'\u001b[39m\u001b[38;5;124m/content/drive\u001b[39m\u001b[38;5;124m'\u001b[39m)\n",
            "\u001b[0;31mModuleNotFoundError\u001b[0m: No module named 'google'"
          ]
        }
      ],
      "source": [
        "from google.colab import drive\n",
        "drive.mount('/content/drive')"
      ]
    },
    {
      "cell_type": "code",
      "execution_count": null,
      "metadata": {
        "collapsed": true,
        "id": "uilXHQVW-RTg"
      },
      "outputs": [],
      "source": [
        "! pip install ultralytics"
      ]
    },
    {
      "cell_type": "code",
      "execution_count": 14,
      "metadata": {
        "id": "ZxlBx8OXUgGu"
      },
      "outputs": [],
      "source": [
        "import os\n",
        "import shutil\n",
        "import json\n",
        "from ultralytics import YOLO"
      ]
    },
    {
      "cell_type": "markdown",
      "metadata": {
        "id": "Kzf_37QPUgGu"
      },
      "source": [
        "## Ajustes Iniciales"
      ]
    },
    {
      "cell_type": "code",
      "execution_count": 16,
      "metadata": {
        "id": "LrsYEZXHUgGv"
      },
      "outputs": [],
      "source": [
        "student_name = \"arevalo_ezequiel\"\n",
        "\n",
        "model_path = \"../augmentation/computer-vision/runs/detect/train9/weights/best.pt\"\n",
        "\n",
        "imgs_dir = \"data/eval/images/val\"\n",
        "base_dir = \"data/out\"\n",
        "# imgs_dir = \"/content/drive/MyDrive/TUIA/CV/2024-01_practico/data/eval/images/val\"\n",
        "# base_dir = \"/content/drive/MyDrive/TUIA/CV/2024-01_practico/data/out\"\n",
        "\n",
        "dets_dir = os.path.join(base_dir, student_name)"
      ]
    },
    {
      "cell_type": "code",
      "execution_count": 17,
      "metadata": {
        "id": "XPb1-p0LUgGv"
      },
      "outputs": [],
      "source": [
        "# Reestablecimiento del directorio de destino (eliminacion)\n",
        "if os.path.exists(dets_dir):\n",
        "    shutil.rmtree(dets_dir)\n",
        "\n",
        "os.makedirs(dets_dir)"
      ]
    },
    {
      "cell_type": "markdown",
      "metadata": {
        "id": "KlWUupvnUgGv"
      },
      "source": [
        "## Inferencia\n",
        "\n",
        "### Formato YOLOv5 para las salidas de las inferencias\n",
        "\n",
        "Estas son las celdas para que el estudiante complete con su código de inferencia.\n",
        "\n",
        "Debe generar un archivo con las detecciones en formato YOLOv5, donde cada línea contiene:\n",
        " cls, xc, yx, w, h, c\n",
        "\n",
        "* **cls**: número de índice de la clase\n",
        "\n",
        "* **xc**: coordenada x al centro de la caja delimitadora (bbox)\n",
        "\n",
        "* **yx**: coordenada y al centro de la caja delimitadora (bbox)\n",
        "\n",
        "* **w**: ancho de la caja delimitadora\n",
        "\n",
        "* **h**: alto de la caja delimitadora\n",
        "\n",
        "* **c**: certeza del modelo sobre la clasificacíon (confidence)\n",
        "\n",
        "\n",
        " Todas las coordenadas deben ser relativas: [0 ... 1]\n",
        "\n",
        "NOTA: Si utiliza un modelo YoloV8 de ultralytics, pueder llamar al método result.save_txt(file_name, save_conf=True)\n",
        "\n",
        "### Formato para los archivos de envido.json\n",
        "\n",
        "Además de las detecciones anteriores, debe existir un archivo llamado envido.json con la siguiente estructura:\n",
        "\n",
        "```json\n",
        "{\n",
        "    \"IMG_20240630_174514649_HDR.jpg\": {\n",
        "        \"total_cards\": 3,\n",
        "        \"cards\": {\n",
        "            \"E\": [],\n",
        "            \"C\": [\n",
        "                12\n",
        "            ],\n",
        "            \"B\": [\n",
        "                11\n",
        "            ],\n",
        "            \"O\": [\n",
        "                10\n",
        "            ]\n",
        "        },\n",
        "        \"points\": 0,\n",
        "        \"figure\": \"N/A\"\n",
        "    },\n",
        "    \"IMG_20240630_173918579.jpg\": {\n",
        "        \"total_cards\": 2,\n",
        "        \"cards\": {\n",
        "            \"E\": [],\n",
        "            \"C\": [],\n",
        "            \"B\": [],\n",
        "            \"O\": [\n",
        "                9,\n",
        "                8\n",
        "            ]\n",
        "        },\n",
        "        \"points\": 0,\n",
        "        \"figure\": \"N/A\"\n",
        "    },\n",
        "  ...\n",
        "}\n",
        "```\n",
        "\n",
        "Esto indica que hay un total de tres cartas, que son el 5 y el 1 de Copas, y el 2 de Basto, que dan 26 puntos de envido de Copa.\n",
        "\n",
        "Este archivo debe contener una clave con el nombre de archivo, donde cada elemento es a su vez un objeto cons las claves detalladas.\n",
        "\n",
        "Revise el archivo gt_envido.json para analizar todas las posibilidades."
      ]
    },
    {
      "cell_type": "markdown",
      "metadata": {
        "id": "MEvz0ZGdUgGw"
      },
      "source": [
        "### DEMO: cálculo del envido\n",
        "\n",
        "A continuación hay una implementación del cálculo de los puntos a modo de ejemplo, que sirve de referencia para evaluar el algoritmo de evaluación.\n",
        "\n",
        "**ESTA ES LA SECCIÓN QUE CADA ALUMNO REEMPLAZARIA CON SU CODIGO**"
      ]
    },
    {
      "cell_type": "code",
      "execution_count": null,
      "metadata": {
        "id": "prcIq_tjUgGw"
      },
      "outputs": [],
      "source": [
        "import glob\n",
        "import torch\n",
        "\n",
        "from config import YOLO_DATASET, YOLO_MODEL, YOLO_PRED_OUTPUT\n",
        "\n",
        "if __name__=='__main__':\n",
        "    device = 'cuda' if torch.cuda.is_available() else 'cpu'\n",
        "    model = YOLO(YOLO_MODEL)\n",
        "    results = model.val(data=\"./data/eval\")\n",
        "    #results = model.val(data=YOLO_DATASET)\n"
      ]
    },
    {
      "cell_type": "code",
      "execution_count": 24,
      "metadata": {},
      "outputs": [
        {
          "ename": "SyntaxError",
          "evalue": "expected 'else' after 'if' expression (3712583468.py, line 67)",
          "output_type": "error",
          "traceback": [
            "\u001b[0;36m  Cell \u001b[0;32mIn[24], line 67\u001b[0;36m\u001b[0m\n\u001b[0;31m    p_points += int(num) if num not in [\"10\",\"\"]\u001b[0m\n\u001b[0m                ^\u001b[0m\n\u001b[0;31mSyntaxError\u001b[0m\u001b[0;31m:\u001b[0m expected 'else' after 'if' expression\n"
          ]
        }
      ],
      "source": [
        "pictures = glob.glob(\"./data/eval\")\n",
        "card_ds_file = {}\n",
        "\n",
        "for picture in pictures:\n",
        "    filename = os.path.basename(picture).split(\".\")[0]\n",
        "    basename = filename(\".\")[0]\n",
        "    \n",
        "    results = model(picture)  \n",
        "    for result in results:\n",
        "        boxes = result.boxes\n",
        "        masks = result.masks\n",
        "        keypoints = result.keypoints\n",
        "        probs = result.probs\n",
        "        obb = result.obb\n",
        "        result.show()\n",
        "        result.save(filename=f\"{YOLO_PRED_OUTPUT}/{filename}\")\n",
        "        result.save_txt(f\"{dets_dir}/{basename}.txt\", save_conf=True)\n",
        "        \n",
        "        mano = {\n",
        "            \"points\": 0,\n",
        "            \"figure\": \"N/A\",\n",
        "            \"total_cards\": 0,\n",
        "            \"cards\": {\n",
        "                \"E\":[], \n",
        "                \"C\":[],\n",
        "                \"B\":[], \n",
        "                \"O\":[]\n",
        "            }\n",
        "        }\n",
        "        \n",
        "        if len(results) < 1 or len(results) > 3:\n",
        "            print(f\"Se detectaron {len(results)} cartas y se necesitan desde 1 a 3 cartas para cantar envido\")\n",
        "        \n",
        "        mano[\"total_cards\"] = len(results)\n",
        "        \n",
        "        for carta in results:\n",
        "            id_carta = carta.boxes.cls\n",
        "            carta = carta.names[int(id_carta)]\n",
        "            \n",
        "            if carta[0] in [\"8\",\"9\",\"J\",\"S\"]:\n",
        "                print(f\"{carta} no es una carta valida para jugar al truco.\")\n",
        "                continue\n",
        "            \n",
        "            n_carta = carta[:-1]\n",
        "            p_carta = carta[1]\n",
        "            mano[\"cards\"][p_carta].append(p_carta)\n",
        "                    \n",
        "        for palo, nums in mano[\"cards\"].items():\n",
        "            p_points = 0\n",
        "            for num in nums: \n",
        "                p_points +=  0 if num in [\"10\",\"11\",\"12\"] else int(num)\n",
        "\n",
        "            mano[\"figure\"] = mano[\"figure\"] if p_points <= mano[\"points\"] else palo\n",
        "            mano[\"points\"] = mano[\"points\"] if p_points <= mano[\"points\"] else p_points\n",
        "            \n",
        "        card_ds_file[filename] = mano"
      ]
    },
    {
      "cell_type": "markdown",
      "metadata": {
        "id": "w3K0mr20UgGx"
      },
      "source": [
        "## Escritura del archivo envido.json"
      ]
    },
    {
      "cell_type": "code",
      "execution_count": null,
      "metadata": {
        "id": "Y-98aHWTUgGx"
      },
      "outputs": [],
      "source": [
        "with open(os.path.join(dets_dir, \"envido.json\"), \"w\") as jf:\n",
        "    json.dump(card_ds_file, jf, indent=4)"
      ]
    },
    {
      "cell_type": "code",
      "execution_count": null,
      "metadata": {
        "id": "yTm8Kfh0UgGx"
      },
      "outputs": [],
      "source": []
    }
  ],
  "metadata": {
    "colab": {
      "provenance": []
    },
    "kernelspec": {
      "display_name": "base",
      "language": "python",
      "name": "python3"
    },
    "language_info": {
      "codemirror_mode": {
        "name": "ipython",
        "version": 3
      },
      "file_extension": ".py",
      "mimetype": "text/x-python",
      "name": "python",
      "nbconvert_exporter": "python",
      "pygments_lexer": "ipython3",
      "version": "3.11.2"
    }
  },
  "nbformat": 4,
  "nbformat_minor": 0
}
