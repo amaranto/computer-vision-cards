{
  "cells": [
    {
      "cell_type": "markdown",
      "metadata": {
        "id": "SUKX__a1UgGt"
      },
      "source": [
        "# Ejemplo de Inferencia"
      ]
    },
    {
      "cell_type": "code",
      "execution_count": null,
      "metadata": {
        "id": "tyNm0cFM-IOt"
      },
      "outputs": [],
      "source": [
        "from google.colab import drive\n",
        "drive.mount('/content/drive')"
      ]
    },
    {
      "cell_type": "code",
      "execution_count": null,
      "metadata": {
        "collapsed": true,
        "id": "uilXHQVW-RTg"
      },
      "outputs": [],
      "source": [
        "! pip install ultralytics"
      ]
    },
    {
      "cell_type": "code",
      "execution_count": 48,
      "metadata": {
        "id": "ZxlBx8OXUgGu"
      },
      "outputs": [],
      "source": [
        "import os\n",
        "import shutil\n",
        "import json\n",
        "from ultralytics import YOLO"
      ]
    },
    {
      "cell_type": "code",
      "execution_count": null,
      "metadata": {},
      "outputs": [],
      "source": [
        "!( [ -d computer-vision-cards ] && cd computer-vision-cards/ && git pull origin main ) || git clone https://github.com/amaranto/computer-vision-cards.git"
      ]
    },
    {
      "cell_type": "markdown",
      "metadata": {
        "id": "Kzf_37QPUgGu"
      },
      "source": [
        "## Ajustes Iniciales"
      ]
    },
    {
      "cell_type": "code",
      "execution_count": 52,
      "metadata": {
        "id": "LrsYEZXHUgGv"
      },
      "outputs": [],
      "source": [
        "student_name = \"arevalo_ezequiel\"\n",
        "\n",
        "model_path = \"models/best.pt\"\n",
        "\n",
        "imgs_dir = \"data/eval/images/val\"\n",
        "base_dir = \"data/out\"\n",
        "# imgs_dir = \"/content/drive/MyDrive/TUIA/CV/2024-01_practico/data/eval/images/val\"\n",
        "# base_dir = \"/content/drive/MyDrive/TUIA/CV/2024-01_practico/data/out\"\n",
        "\n",
        "dets_dir = os.path.join(base_dir, student_name)"
      ]
    },
    {
      "cell_type": "code",
      "execution_count": 53,
      "metadata": {
        "id": "XPb1-p0LUgGv"
      },
      "outputs": [],
      "source": [
        "# Reestablecimiento del directorio de destino (eliminacion)\n",
        "if os.path.exists(dets_dir):\n",
        "    shutil.rmtree(dets_dir)\n",
        "\n",
        "os.makedirs(dets_dir)"
      ]
    },
    {
      "cell_type": "markdown",
      "metadata": {
        "id": "KlWUupvnUgGv"
      },
      "source": [
        "## Inferencia\n",
        "\n",
        "### Formato YOLOv5 para las salidas de las inferencias\n",
        "\n",
        "Estas son las celdas para que el estudiante complete con su código de inferencia.\n",
        "\n",
        "Debe generar un archivo con las detecciones en formato YOLOv5, donde cada línea contiene:\n",
        " cls, xc, yx, w, h, c\n",
        "\n",
        "* **cls**: número de índice de la clase\n",
        "\n",
        "* **xc**: coordenada x al centro de la caja delimitadora (bbox)\n",
        "\n",
        "* **yx**: coordenada y al centro de la caja delimitadora (bbox)\n",
        "\n",
        "* **w**: ancho de la caja delimitadora\n",
        "\n",
        "* **h**: alto de la caja delimitadora\n",
        "\n",
        "* **c**: certeza del modelo sobre la clasificacíon (confidence)\n",
        "\n",
        "\n",
        " Todas las coordenadas deben ser relativas: [0 ... 1]\n",
        "\n",
        "NOTA: Si utiliza un modelo YoloV8 de ultralytics, pueder llamar al método result.save_txt(file_name, save_conf=True)\n",
        "\n",
        "### Formato para los archivos de envido.json\n",
        "\n",
        "Además de las detecciones anteriores, debe existir un archivo llamado envido.json con la siguiente estructura:\n",
        "\n",
        "```json\n",
        "{\n",
        "    \"IMG_20240630_174514649_HDR.jpg\": {\n",
        "        \"total_cards\": 3,\n",
        "        \"cards\": {\n",
        "            \"E\": [],\n",
        "            \"C\": [\n",
        "                12\n",
        "            ],\n",
        "            \"B\": [\n",
        "                11\n",
        "            ],\n",
        "            \"O\": [\n",
        "                10\n",
        "            ]\n",
        "        },\n",
        "        \"points\": 0,\n",
        "        \"figure\": \"N/A\"\n",
        "    },\n",
        "    \"IMG_20240630_173918579.jpg\": {\n",
        "        \"total_cards\": 2,\n",
        "        \"cards\": {\n",
        "            \"E\": [],\n",
        "            \"C\": [],\n",
        "            \"B\": [],\n",
        "            \"O\": [\n",
        "                9,\n",
        "                8\n",
        "            ]\n",
        "        },\n",
        "        \"points\": 0,\n",
        "        \"figure\": \"N/A\"\n",
        "    },\n",
        "  ...\n",
        "}\n",
        "```\n",
        "\n",
        "Esto indica que hay un total de tres cartas, que son el 5 y el 1 de Copas, y el 2 de Basto, que dan 26 puntos de envido de Copa.\n",
        "\n",
        "Este archivo debe contener una clave con el nombre de archivo, donde cada elemento es a su vez un objeto cons las claves detalladas.\n",
        "\n",
        "Revise el archivo gt_envido.json para analizar todas las posibilidades."
      ]
    },
    {
      "cell_type": "markdown",
      "metadata": {
        "id": "MEvz0ZGdUgGw"
      },
      "source": [
        "### DEMO: cálculo del envido\n",
        "\n",
        "A continuación hay una implementación del cálculo de los puntos a modo de ejemplo, que sirve de referencia para evaluar el algoritmo de evaluación.\n",
        "\n",
        "**ESTA ES LA SECCIÓN QUE CADA ALUMNO REEMPLAZARIA CON SU CODIGO**"
      ]
    },
    {
      "cell_type": "markdown",
      "metadata": {},
      "source": [
        "### Google colab\n",
        "---\n",
        "<p>Para poder ejecutar de manera automatica desde colab correr el siguiente bloque de codigo</p>"
      ]
    },
    {
      "cell_type": "code",
      "execution_count": 55,
      "metadata": {},
      "outputs": [
        {
          "name": "stdout",
          "output_type": "stream",
          "text": [
            "mkdir: cannot create directory ‘/content’: Permission denied\n"
          ]
        },
        {
          "name": "stdout",
          "output_type": "stream",
          "text": [
            "cp: cannot stat 'computer-vision-cards/models/best.pt': No such file or directory\n",
            "cp: cannot stat 'computer-vision-cards/datasets': No such file or directory\n",
            "cp: cannot stat 'computer-vision-cards/data': No such file or directory\n"
          ]
        }
      ],
      "source": [
        "! mkdir -p /content/datasets/ && mkdir -p /content/models/\n",
        "! cp computer-vision-cards/models/best.pt /content/models/\n",
        "! cp -r computer-vision-cards/datasets /content/datasets/\n",
        "! cp -r computer-vision-cards/data /content/datasets/"
      ]
    },
    {
      "cell_type": "code",
      "execution_count": 57,
      "metadata": {
        "id": "prcIq_tjUgGw"
      },
      "outputs": [
        {
          "name": "stdout",
          "output_type": "stream",
          "text": [
            "Ultralytics YOLOv8.2.62 🚀 Python-3.11.2 torch-2.3.1+cu121 CUDA:0 (Tesla T4, 14918MiB)\n"
          ]
        },
        {
          "name": "stdout",
          "output_type": "stream",
          "text": [
            "YOLOv8m summary (fused): 218 layers, 25,869,289 parameters, 0 gradients, 78.8 GFLOPs\n"
          ]
        },
        {
          "name": "stderr",
          "output_type": "stream",
          "text": [
            "\u001b[34m\u001b[1mval: \u001b[0mScanning /home/earevalo/computer-vision-cards/data/eval/labels/val.cache... 32 images, 0 backgrounds, 0 corrupt: 100%|██████████| 32/32 [00:00<?, ?it/s]\n",
            "                 Class     Images  Instances      Box(P          R      mAP50  mAP50-95): 100%|██████████| 2/2 [00:04<00:00,  2.32s/it]\n"
          ]
        },
        {
          "name": "stdout",
          "output_type": "stream",
          "text": [
            "                   all         32         65      0.708      0.772       0.85      0.578\n",
            "                    1O          2          2      0.826          1      0.995       0.51\n",
            "                    1C          2          2      0.812          1      0.995      0.553\n",
            "                    1E          1          1      0.703          1      0.995      0.995\n",
            "                    1B          1          1      0.677          1      0.995      0.697\n",
            "                    2O          1          1      0.702          1      0.995      0.796\n",
            "                    2C          1          1      0.886          1      0.995      0.697\n",
            "                    2B          2          2      0.806          1      0.995       0.69\n",
            "                    3O          1          1      0.683          1      0.995      0.895\n",
            "                    3C          1          1      0.673          1      0.995      0.398\n",
            "                    3E          2          2      0.825          1      0.995      0.827\n",
            "                    3B          3          3      0.864          1      0.995      0.505\n",
            "                    4O          2          2      0.596          1      0.995      0.579\n",
            "                    4C          1          1      0.895          1      0.995      0.697\n",
            "                    4E          1          1          1          0      0.995      0.497\n",
            "                    4B          1          1      0.745          1      0.995      0.597\n",
            "                    5O          2          2      0.475          1      0.995      0.702\n",
            "                    5C          1          1        0.4          1      0.995      0.895\n",
            "                    5E          1          1      0.696          1      0.995      0.597\n",
            "                    5B          1          1      0.707          1      0.995      0.895\n",
            "                    6O          1          1       0.38          1      0.995      0.995\n",
            "                    6C          1          1      0.662          1      0.995      0.697\n",
            "                    6E          1          1      0.708          1      0.995      0.597\n",
            "                    6B          3          3      0.866          1      0.995      0.684\n",
            "                    7O          3          3          1      0.582      0.863      0.586\n",
            "                    7C          1          1      0.383      0.765      0.497      0.398\n",
            "                    7E          3          3       0.85          1      0.995      0.518\n",
            "                    7B          1          1      0.709          1      0.995      0.796\n",
            "                    8O          2          2        0.4        0.5      0.745      0.525\n",
            "                    8C          1          1          0          0      0.166     0.0663\n",
            "                    8B          1          1      0.526          1      0.995      0.796\n",
            "                    9O          2          2          1          0          0          0\n",
            "                    9C          1          1      0.909          1      0.995      0.597\n",
            "                    9E          1          1      0.725          1      0.995      0.497\n",
            "                    9B          1          1          1          0      0.995      0.697\n",
            "                   10O          1          1          1          0      0.497      0.199\n",
            "                   10C          1          1          1          0      0.249      0.174\n",
            "                   10E          2          2      0.805          1      0.995      0.436\n",
            "                   10B          3          3          1      0.655      0.913      0.532\n",
            "                   11O          1          1          0          0          0          0\n",
            "                   11C          1          1      0.667          1      0.995      0.895\n",
            "                   11E          1          1          1          0      0.497      0.298\n",
            "                   11B          1          1      0.643          1      0.995      0.597\n",
            "                   12O          1          1       0.67          1      0.995      0.697\n",
            "                   12C          1          1      0.297          1      0.497      0.149\n",
            "                   12E          1          1      0.417          1      0.995      0.895\n",
            "                   12B          1          1          1          0      0.332      0.232\n",
            "Speed: 3.1ms preprocess, 22.1ms inference, 0.0ms loss, 1.2ms postprocess per image\n",
            "Results saved to \u001b[1m/home/earevalo/computer-vision-cards/runs/detect/val13\u001b[0m\n"
          ]
        }
      ],
      "source": [
        "import glob\n",
        "import torch\n",
        "import os\n",
        "\n",
        "os.makedirs(\"./predictions\", exist_ok=True)\n",
        "\n",
        "if __name__=='__main__':\n",
        "    device = 'cuda' if torch.cuda.is_available() else 'cpu'\n",
        "    model = YOLO(model_path)\n",
        "    results = model.val(data=\"data/eval/dataset.yaml\")\n",
        "    #results = model.val(data=YOLO_DATASET)"
      ]
    },
    {
      "cell_type": "markdown",
      "metadata": {},
      "source": [
        "# Predicciones\n",
        "---\n",
        "\n",
        "<p>Vemos que las metricas de evaluacion tienen fallos al predecir cartas, si bien la gran mayoria fueron predecidas perfectamente el modelo no 100% efectivo a la hora de predecir el datasets provisto por los profesores.</p>"
      ]
    },
    {
      "cell_type": "code",
      "execution_count": 64,
      "metadata": {},
      "outputs": [
        {
          "data": {
            "text/plain": [
              "<Figure size 1000x1000 with 12 Axes>"
            ]
          },
          "metadata": {},
          "output_type": "display_data"
        }
      ],
      "source": [
        "import glob\n",
        "import matplotlib.pyplot as plt \n",
        "\n",
        "pictures = glob.glob(f\"./predictions/*\")\n",
        "pictures = pictures[:10]\n",
        "\n",
        "cols = 3\n",
        "rows = (len(pictures)/cols) + (len(pictures)%cols)\n",
        "rows = int(rows)\n",
        "fig, axs = plt.subplots(ncols=cols, nrows=rows, figsize=(10, 10),layout=\"constrained\")\n",
        "\n",
        "n=0\n",
        "for i in range(0,rows):\n",
        "    for j in range(0,cols):\n",
        "        if n >= len(pictures):\n",
        "            break\n",
        "        dist_labels = plt.imread(pictures[n])\n",
        "        axs[i][j].imshow(dist_labels)\n",
        "        n+=1\n",
        "        \n",
        "plt.show()"
      ]
    },
    {
      "cell_type": "markdown",
      "metadata": {},
      "source": [
        "# Calculo del envido\n",
        "---\n",
        "\n"
      ]
    },
    {
      "cell_type": "code",
      "execution_count": 58,
      "metadata": {},
      "outputs": [
        {
          "name": "stdout",
          "output_type": "stream",
          "text": [
            "\n"
          ]
        },
        {
          "name": "stdout",
          "output_type": "stream",
          "text": [
            "image 1/1 /home/earevalo/computer-vision-cards/data/eval/images/val/IMG_20240630_174115784.jpg: 640x512 1 8C, 1 9C, 1 9E, 28.4ms\n",
            "Speed: 6.0ms preprocess, 28.4ms inference, 1.4ms postprocess per image at shape (1, 3, 640, 512)\n",
            "9E no es una carta valida para jugar al truco.\n",
            "9C no es una carta valida para jugar al truco.\n",
            "8C no es una carta valida para jugar al truco.\n",
            "\n",
            "image 1/1 /home/earevalo/computer-vision-cards/data/eval/images/val/IMG_20240630_174005265.jpg: 640x512 1 1O, 27.6ms\n",
            "Speed: 3.4ms preprocess, 27.6ms inference, 1.4ms postprocess per image at shape (1, 3, 640, 512)\n",
            "\n",
            "image 1/1 /home/earevalo/computer-vision-cards/data/eval/images/val/IMG_20240630_174133804_HDR.jpg: 640x512 1 3E, 1 4E, 27.6ms\n",
            "Speed: 3.2ms preprocess, 27.6ms inference, 1.3ms postprocess per image at shape (1, 3, 640, 512)\n",
            "\n",
            "image 1/1 /home/earevalo/computer-vision-cards/data/eval/images/val/IMG_20240630_174302382_HDR.jpg: 640x512 1 1E, 1 6C, 27.6ms\n",
            "Speed: 3.3ms preprocess, 27.6ms inference, 1.4ms postprocess per image at shape (1, 3, 640, 512)\n",
            "\n",
            "image 1/1 /home/earevalo/computer-vision-cards/data/eval/images/val/IMG_20240630_173954348.jpg: 640x512 1 1O, 1 12C, 27.6ms\n",
            "Speed: 3.4ms preprocess, 27.6ms inference, 1.3ms postprocess per image at shape (1, 3, 640, 512)\n",
            "\n",
            "image 1/1 /home/earevalo/computer-vision-cards/data/eval/images/val/IMG_20240630_174349395.jpg: 640x512 1 7O, 1 10B, 27.6ms\n",
            "Speed: 3.3ms preprocess, 27.6ms inference, 1.3ms postprocess per image at shape (1, 3, 640, 512)\n",
            "\n",
            "image 1/1 /home/earevalo/computer-vision-cards/data/eval/images/val/IMG_20240630_173836085.jpg: 640x512 1 6B, 1 7E, 27.6ms\n",
            "Speed: 3.2ms preprocess, 27.6ms inference, 1.4ms postprocess per image at shape (1, 3, 640, 512)\n",
            "\n",
            "image 1/1 /home/earevalo/computer-vision-cards/data/eval/images/val/IMG_20240630_174235296.jpg: 640x512 1 4O, 1 10E, 27.6ms\n",
            "Speed: 3.3ms preprocess, 27.6ms inference, 1.3ms postprocess per image at shape (1, 3, 640, 512)\n",
            "\n",
            "image 1/1 /home/earevalo/computer-vision-cards/data/eval/images/val/IMG_20240630_174445046_HDR.jpg: 640x512 1 6O, 27.6ms\n",
            "Speed: 3.4ms preprocess, 27.6ms inference, 1.2ms postprocess per image at shape (1, 3, 640, 512)\n",
            "\n",
            "image 1/1 /home/earevalo/computer-vision-cards/data/eval/images/val/IMG_20240630_173929084.jpg: 640x512 1 3O, 2 5Os, 27.6ms\n",
            "Speed: 3.3ms preprocess, 27.6ms inference, 1.3ms postprocess per image at shape (1, 3, 640, 512)\n",
            "\n",
            "image 1/1 /home/earevalo/computer-vision-cards/data/eval/images/val/IMG_20240630_174155383_HDR.jpg: 640x512 2 12Es, 27.6ms\n",
            "Speed: 4.3ms preprocess, 27.6ms inference, 1.7ms postprocess per image at shape (1, 3, 640, 512)\n",
            "\n",
            "image 1/1 /home/earevalo/computer-vision-cards/data/eval/images/val/IMG_20240630_174459285.jpg: 512x640 1 5B, 28.6ms\n",
            "Speed: 3.2ms preprocess, 28.6ms inference, 1.2ms postprocess per image at shape (1, 3, 512, 640)\n",
            "\n",
            "image 1/1 /home/earevalo/computer-vision-cards/data/eval/images/val/IMG_20240630_174453153.jpg: 640x512 1 1B, 1 3C, 28.2ms\n",
            "Speed: 3.3ms preprocess, 28.2ms inference, 1.2ms postprocess per image at shape (1, 3, 640, 512)\n",
            "\n",
            "image 1/1 /home/earevalo/computer-vision-cards/data/eval/images/val/IMG_20240630_174418639.jpg: 640x512 1 5O, 1 6O, 1 11O, 27.6ms\n",
            "Speed: 3.3ms preprocess, 27.6ms inference, 1.3ms postprocess per image at shape (1, 3, 640, 512)\n",
            "\n",
            "image 1/1 /home/earevalo/computer-vision-cards/data/eval/images/val/IMG_20240630_174208092.jpg: 640x512 1 5E, 1 11O, 27.6ms\n",
            "Speed: 3.2ms preprocess, 27.6ms inference, 1.2ms postprocess per image at shape (1, 3, 640, 512)\n",
            "\n",
            "image 1/1 /home/earevalo/computer-vision-cards/data/eval/images/val/IMG_20240630_174434126.jpg: 640x512 1 5C, 1 7C, 1 10C, 1 12O, 27.6ms\n",
            "Speed: 3.3ms preprocess, 27.6ms inference, 1.3ms postprocess per image at shape (1, 3, 640, 512)\n",
            "\n",
            "image 1/1 /home/earevalo/computer-vision-cards/data/eval/images/val/IMG_20240630_174223161_HDR.jpg: 640x512 1 4O, 1 10E, 1 12C, 27.6ms\n",
            "Speed: 3.3ms preprocess, 27.6ms inference, 1.3ms postprocess per image at shape (1, 3, 640, 512)\n",
            "\n",
            "image 1/1 /home/earevalo/computer-vision-cards/data/eval/images/val/IMG_20240630_174017809.jpg: 640x512 1 6E, 1 7C, 27.6ms\n",
            "Speed: 3.2ms preprocess, 27.6ms inference, 1.2ms postprocess per image at shape (1, 3, 640, 512)\n",
            "\n",
            "image 1/1 /home/earevalo/computer-vision-cards/data/eval/images/val/IMG_20240630_174333447.jpg: 640x512 1 4B, 1 7B, 27.6ms\n",
            "Speed: 3.4ms preprocess, 27.6ms inference, 1.3ms postprocess per image at shape (1, 3, 640, 512)\n",
            "\n",
            "image 1/1 /home/earevalo/computer-vision-cards/data/eval/images/val/IMG_20240630_173822184_HDR.jpg: 640x512 1 3B, 1 6B, 1 7E, 27.6ms\n",
            "Speed: 3.3ms preprocess, 27.6ms inference, 1.2ms postprocess per image at shape (1, 3, 640, 512)\n",
            "\n",
            "image 1/1 /home/earevalo/computer-vision-cards/data/eval/images/val/IMG_20240630_174406256.jpg: 640x512 1 5O, 1 6O, 1 10C, 27.6ms\n",
            "Speed: 3.3ms preprocess, 27.6ms inference, 1.2ms postprocess per image at shape (1, 3, 640, 512)\n",
            "\n",
            "image 1/1 /home/earevalo/computer-vision-cards/data/eval/images/val/IMG_20240630_174105714.jpg: 640x512 1 8B, 27.6ms\n",
            "Speed: 3.2ms preprocess, 27.6ms inference, 1.3ms postprocess per image at shape (1, 3, 640, 512)\n",
            "8B no es una carta valida para jugar al truco.\n",
            "\n",
            "image 1/1 /home/earevalo/computer-vision-cards/data/eval/images/val/IMG_20240630_173737533.jpg: 640x512 1 1C, 1 2B, 1 5C, 27.6ms\n",
            "Speed: 3.4ms preprocess, 27.6ms inference, 1.3ms postprocess per image at shape (1, 3, 640, 512)\n",
            "\n",
            "image 1/1 /home/earevalo/computer-vision-cards/data/eval/images/val/IMG_20240630_173828513_HDR.jpg: 640x512 1 3B, 1 6B, 1 7E, 27.6ms\n",
            "Speed: 3.3ms preprocess, 27.6ms inference, 1.3ms postprocess per image at shape (1, 3, 640, 512)\n",
            "\n",
            "image 1/1 /home/earevalo/computer-vision-cards/data/eval/images/val/IMG_20240630_174246178_HDR.jpg: 640x512 1 2C, 27.5ms\n",
            "Speed: 3.2ms preprocess, 27.5ms inference, 1.2ms postprocess per image at shape (1, 3, 640, 512)\n",
            "\n",
            "image 1/1 /home/earevalo/computer-vision-cards/data/eval/images/val/IMG_20240630_174514649_HDR.jpg: 640x512 1 4O, 1 11B, 1 12O, 1 12C, 27.6ms\n",
            "Speed: 3.2ms preprocess, 27.6ms inference, 1.3ms postprocess per image at shape (1, 3, 640, 512)\n",
            "\n",
            "image 1/1 /home/earevalo/computer-vision-cards/data/eval/images/val/IMG_20240630_173918579.jpg: 640x512 3 8Os, 27.6ms\n",
            "Speed: 3.4ms preprocess, 27.6ms inference, 1.2ms postprocess per image at shape (1, 3, 640, 512)\n",
            "8O no es una carta valida para jugar al truco.\n",
            "8O no es una carta valida para jugar al truco.\n",
            "8O no es una carta valida para jugar al truco.\n",
            "\n",
            "image 1/1 /home/earevalo/computer-vision-cards/data/eval/images/val/IMG_20240630_174316833.jpg: 640x512 1 2O, 1 4C, 27.6ms\n",
            "Speed: 3.3ms preprocess, 27.6ms inference, 1.3ms postprocess per image at shape (1, 3, 640, 512)\n",
            "\n",
            "image 1/1 /home/earevalo/computer-vision-cards/data/eval/images/val/IMG_20240630_174142929_HDR.jpg: 640x512 1 3E, 27.6ms\n",
            "Speed: 3.5ms preprocess, 27.6ms inference, 1.5ms postprocess per image at shape (1, 3, 640, 512)\n",
            "\n",
            "image 1/1 /home/earevalo/computer-vision-cards/data/eval/images/val/IMG_20240630_173711753_HDR.jpg: 640x512 1 11C, 27.6ms\n",
            "Speed: 3.2ms preprocess, 27.6ms inference, 1.3ms postprocess per image at shape (1, 3, 640, 512)\n",
            "\n",
            "image 1/1 /home/earevalo/computer-vision-cards/data/eval/images/val/IMG_20240630_173859456.jpg: 640x512 1 3B, 27.6ms\n",
            "Speed: 3.5ms preprocess, 27.6ms inference, 1.4ms postprocess per image at shape (1, 3, 640, 512)\n",
            "\n",
            "image 1/1 /home/earevalo/computer-vision-cards/data/eval/images/val/IMG_20240630_173758691.jpg: 640x512 1 1C, 1 2B, 27.6ms\n",
            "Speed: 3.5ms preprocess, 27.6ms inference, 1.3ms postprocess per image at shape (1, 3, 640, 512)\n"
          ]
        }
      ],
      "source": [
        "pictures = glob.glob(f\"{imgs_dir}/*\")\n",
        "card_ds_file = {}\n",
        "\n",
        "for picture in pictures:\n",
        "    filename = os.path.basename(picture)\n",
        "    basename = filename.split(\".\")[0]\n",
        "\n",
        "    results = model.predict(picture)  \n",
        "    for result in   results:\n",
        "        boxes = result.boxes\n",
        "        masks = result.masks\n",
        "        keypoints = result.keypoints\n",
        "        probs = result.probs\n",
        "        obb = result.obb\n",
        "        \n",
        "        mano = {\n",
        "            \"points\": 0,\n",
        "            \"figure\": \"N/A\",\n",
        "            \"total_cards\": 0,\n",
        "            \"cards\": {\n",
        "                \"E\":[], \n",
        "                \"C\":[],\n",
        "                \"B\":[], \n",
        "                \"O\":[]\n",
        "            }\n",
        "        }\n",
        "        \n",
        "        if len(results) < 1 or len(results) > 3:\n",
        "            print(f\"Se detectaron {len(results)} cartas y se necesitan desde 1 a 3 cartas para cantar envido\")\n",
        "        \n",
        "        mano[\"total_cards\"] = len(results)\n",
        "        \n",
        "        for cartas in results:\n",
        "            \n",
        "            cartas.save(filename=f\"./predictions/{filename}\")\n",
        "            cartas.save_txt(f\"{dets_dir}/{basename}.txt\", save_conf=True)\n",
        "            \n",
        "            for carta in cartas:\n",
        "                id_carta = carta.boxes.cls\n",
        "                carta = carta.names[int(id_carta)]\n",
        "\n",
        "                if carta[0] in [\"8\",\"9\",\"J\",\"S\"]:\n",
        "                    print(f\"{carta} no es una carta valida para jugar al truco.\")\n",
        "                    continue\n",
        "                \n",
        "                n_carta = carta[:-1]\n",
        "                p_carta = carta[-1]\n",
        "                mano[\"cards\"][p_carta].append(n_carta)\n",
        "                \n",
        "        for palo, nums in mano[\"cards\"].items():\n",
        "            p_points = 0\n",
        "            nums = [ int(n) if not n in [\"10\",\"11\",\"12\"] else 0 for n in nums ]\n",
        "            nums = sorted(nums,reverse=True)\n",
        "            nums = nums[:2]\n",
        "            p_points = 20 if len(nums) > 1 else 0\n",
        "            \n",
        "            for num in nums:\n",
        "                p_points += num\n",
        "\n",
        "            mano[\"figure\"] = mano[\"figure\"] if p_points <= mano[\"points\"] else palo\n",
        "            mano[\"points\"] = mano[\"points\"] if p_points <= mano[\"points\"] else p_points\n",
        "            \n",
        "        card_ds_file[filename] = mano"
      ]
    },
    {
      "cell_type": "markdown",
      "metadata": {
        "id": "w3K0mr20UgGx"
      },
      "source": [
        "## Escritura del archivo envido.json"
      ]
    },
    {
      "cell_type": "code",
      "execution_count": 59,
      "metadata": {
        "id": "Y-98aHWTUgGx"
      },
      "outputs": [],
      "source": [
        "with open(os.path.join(dets_dir, \"envido.json\"), \"w\") as jf:\n",
        "    json.dump(card_ds_file, jf, indent=4)"
      ]
    }
  ],
  "metadata": {
    "colab": {
      "provenance": []
    },
    "kernelspec": {
      "display_name": "base",
      "language": "python",
      "name": "python3"
    },
    "language_info": {
      "codemirror_mode": {
        "name": "ipython",
        "version": 3
      },
      "file_extension": ".py",
      "mimetype": "text/x-python",
      "name": "python",
      "nbconvert_exporter": "python",
      "pygments_lexer": "ipython3",
      "version": "3.11.2"
    }
  },
  "nbformat": 4,
  "nbformat_minor": 0
}
